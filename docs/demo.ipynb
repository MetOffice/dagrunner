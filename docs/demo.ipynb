{
 "cells": [
  {
   "cell_type": "markdown",
   "id": "b1ef1385",
   "metadata": {},
   "source": [
    "# Example DAGRunner usage"
   ]
  },
  {
   "cell_type": "markdown",
   "id": "352531c5",
   "metadata": {},
   "source": [
    "Let's demonstrate defining a callable object which represents some processing step we wish to do, along with a minimal networkx graph which describes a network of processing steps and their relationship to one another.  Our example will demonstrate the following:\n",
    "\n",
    "- Defining a callable object to be executed for a given node in our graph.\n",
    "  - Passing data in memory.\n",
    "- Defining a minimal networkx graph.\n",
    "  - Defining an example node identity for our networkx graph.\n",
    "- Execution of our graph with our chosen scheduler."
   ]
  },
  {
   "cell_type": "markdown",
   "id": "a723badf",
   "metadata": {},
   "source": [
    "The currency of DAGRunner is the [networkx.DiGraph](https://networkx.org/documentation/stable/reference/classes/digraph.html) object.  DAGRunner is provided this networkx graph object (or python dot path to one) and told to execute it with a specified scheduler.  A layer of abstraction is provided to support range of schedulers.\n",
    "The question becomes, \"how does DAGRunner know what and how to execute my networkx graph?\"\n",
    "\n",
    "By default, DAGRunner pre-defines a default [plugin-executor](https://github.com/MetOffice/dagrunner/blob/main/docs/dagrunner.execute_graph.md#function-plugin_executor) function.  Each node in your networkx graph when 'executed' by DAGRunner is wrapped by this function.  It's purpose is in taking the node properties and attributes provided along with any data from ancestor nodes and using this to inform how to call our processing step and with what argument.  We will go into some detail later."
   ]
  },
  {
   "cell_type": "markdown",
   "id": "35328122",
   "metadata": {},
   "source": [
    "## Pre-requisites"
   ]
  },
  {
   "cell_type": "markdown",
   "id": "8737fb42",
   "metadata": {},
   "source": [
    "Ensure that 'dagrunner' is on the `PYTHONPATH` (i.e. [installation](../README.md#installation))."
   ]
  },
  {
   "cell_type": "markdown",
   "id": "61072e08",
   "metadata": {},
   "source": [
    "## Defining a processing step (AKA something to execute, processing module or 'plugin')"
   ]
  },
  {
   "cell_type": "markdown",
   "id": "9920eded",
   "metadata": {},
   "source": [
    "First, let's define some callable that represents some processing step.  This callable will take positional arguments which represent the values from returned by direct ancestor nodes to the one being executed.  The callable will typically do something to manipulate the data provided before returning this as a result, ready for descendant nodes to further process this data.\n",
    "By our callable returning an object, we are passing data in memory along the node tree.\n",
    "\n",
    "To that end, we define a simple callable that will additionally accept an ID keyword argument.  Our callable will concatenate the node ID values provided to it from proceeding nodes (args) with its own node ID value and so the concatenated node ID strings will be the basis of this data passed between nodes in our network.\n",
    "\n",
    "DAGRunner provide some powerful built-in plugins; some are abstract classes like `Plugin` and `Load`, while others are intended as useful for use directly, such as `DataPolling`, `Input`, `LoadJson`, `SaveJson`, `LoadPickle` and `SavePickle`.  See [here](dagrunner.plugin_framework.md) for more information.\n",
    "\n",
    "For simplicity, we will define a simple function as our callable."
   ]
  },
  {
   "cell_type": "code",
   "execution_count": 1,
   "id": "bd32d64a",
   "metadata": {},
   "outputs": [],
   "source": [
    "def concatenate_id(*args, id=None):\n",
    "    \"\"\"Concatenate node IDs together\"\"\"\n",
    "    concat_arg_id = str(id)\n",
    "    if args and args[0]:\n",
    "        concat_arg_id = \"_\".join([str(arg) for arg in args if arg]) + f\"_{id}\"\n",
    "    return concat_arg_id"
   ]
  },
  {
   "cell_type": "markdown",
   "id": "16227511",
   "metadata": {},
   "source": [
    "## NetworkX graph definition"
   ]
  },
  {
   "cell_type": "markdown",
   "id": "0cd2ebb9",
   "metadata": {},
   "source": [
    "A networkx graph is constructed from a list of edges (see official [edge](https://networkx.org/documentation/stable/reference/glossary.html#term-edge) definition) and/or nodes (see official [node](https://networkx.org/documentation/stable/reference/glossary.html#term-node) definition).  We highly recommend a general reading of the official documentation around the topic, but in short, a graphs nodes represents its identities and the edges represent the relationship/connectivity between these identities.\n",
    "\n",
    "Often we additionally use the term 'settings'.  This is to mean a mapping (dictionary) between node identity and its attributes (see official [node attributes](https://networkx.org/documentation/stable/reference/glossary.html#term-node-attribute) definition).  It's these node attributes that inform DAGRunnder via it's internal [plugin-executor](https://github.com/MetOffice/dagrunner/blob/main/docs/dagrunner.execute_graph.md#function-plugin_executor) on how to execute a given node.  We will go through this in our example."
   ]
  },
  {
   "cell_type": "markdown",
   "id": "57e9f6f8",
   "metadata": {},
   "source": [
    "### Define a 'node' identiy for our NetworkX graph"
   ]
  },
  {
   "cell_type": "markdown",
   "id": "d3af6ac2",
   "metadata": {},
   "source": [
    "We are free to define our node (graph identities) in any way we choose.  However, we highly recommend the use of immutable containers such as [dataclasses](https://docs.python.org/3/library/dataclasses.html#dataclasses.dataclass) or [namedtuples](https://docs.python.org/3/library/collections.html#collections.namedtuple).  These are highly effective means for representing node identities using flexible immutable objects."
   ]
  },
  {
   "cell_type": "markdown",
   "id": "edde80df",
   "metadata": {},
   "source": [
    "Let's define a 'Node' [dataclasses](https://docs.python.org/3/library/dataclasses.html#dataclasses.dataclass) class to use for identities within our networkx graph.\n",
    "\n",
    "We can define any number of 'properties', but we will stick with 'step' and 'leadtime' for now as this will suffice in our basic example.\n",
    "\n",
    "We will additionally define a `__str__` special method too, as this will enable useful labels in our visualisation of the networkx graph later."
   ]
  },
  {
   "cell_type": "code",
   "execution_count": 2,
   "id": "2e4e3e0e",
   "metadata": {},
   "outputs": [],
   "source": [
    "from dataclasses import dataclass\n",
    "\n",
    "\n",
    "@dataclass(order=True, eq=True, frozen=True)\n",
    "class Node:\n",
    "    step: str = None\n",
    "    leadtime: int = None\n",
    "\n",
    "    def __str__(self):\n",
    "        return f\"S:{self.step}_L:{self.leadtime}\""
   ]
  },
  {
   "cell_type": "markdown",
   "id": "edbcfc4e",
   "metadata": {},
   "source": [
    "### Define a networkx graph"
   ]
  },
  {
   "cell_type": "markdown",
   "id": "7520dbf6",
   "metadata": {},
   "source": [
    "Here, we will demonstrate defining a graph with two independent branches of execution, each identified by its own 'leadtime', as we defined in our object used to define the node identity above.\n",
    "\n",
    "Note: The networkx graph is most often referred to as the 'configuration' or 'recipe', when discussed within the scope of an orchestration engine.  This is important as 'graph' is rather ambiguous and dependent on the context and layer we are referring."
   ]
  },
  {
   "cell_type": "code",
   "execution_count": 3,
   "id": "70cec9f6",
   "metadata": {},
   "outputs": [],
   "source": [
    "HOUR = 3600\n",
    "MINUTE = 60\n",
    "leadtimes = tuple(range(0, HOUR * 2, HOUR))\n",
    "\n",
    "SETTINGS = {}\n",
    "EDGES = []\n",
    "\n",
    "for leadtime in leadtimes:\n",
    "    # node1 -> node2\n",
    "    node1 = Node(step=\"step1\", leadtime=leadtime)\n",
    "    node2 = Node(step=\"step2\", leadtime=leadtime)\n",
    "    EDGES.append((node1, node2))\n",
    "\n",
    "    # node3 -> node4\n",
    "    node3 = Node(step=\"step3\", leadtime=leadtime)\n",
    "    node4 = Node(step=\"step4\", leadtime=leadtime)\n",
    "    EDGES.append((node3, node4))\n",
    "\n",
    "    # node2 -> node5\n",
    "    node5 = Node(step=\"step5\", leadtime=leadtime)\n",
    "    EDGES.append((node2, node5))\n",
    "\n",
    "    # node4 -> node5\n",
    "    node4 = Node(step=\"step4\", leadtime=leadtime)\n",
    "    EDGES.append((node4, node5))\n",
    "\n",
    "    for nodenum in range(1, 6):\n",
    "        node = vars()[f\"node{nodenum}\"]\n",
    "        SETTINGS[node] = {\n",
    "            \"call\": (concatenate_id, {\"id\": nodenum}),\n",
    "        }"
   ]
  },
  {
   "cell_type": "markdown",
   "id": "5c54bade",
   "metadata": {},
   "source": [
    "Let's look at what we have just defined.  Some edges and some settings*\n",
    "\n",
    "*reminder that by settings, we mean a `{node, attributes}` lookup."
   ]
  },
  {
   "cell_type": "code",
   "execution_count": 4,
   "id": "3a318c1c",
   "metadata": {},
   "outputs": [
    {
     "name": "stdout",
     "output_type": "stream",
     "text": [
      "edges:\n",
      "[(Node(step='step1', leadtime=0), Node(step='step2', leadtime=0)),\n",
      " (Node(step='step3', leadtime=0), Node(step='step4', leadtime=0)),\n",
      " (Node(step='step2', leadtime=0), Node(step='step5', leadtime=0)),\n",
      " (Node(step='step4', leadtime=0), Node(step='step5', leadtime=0)),\n",
      " (Node(step='step1', leadtime=3600), Node(step='step2', leadtime=3600)),\n",
      " (Node(step='step3', leadtime=3600), Node(step='step4', leadtime=3600)),\n",
      " (Node(step='step2', leadtime=3600), Node(step='step5', leadtime=3600)),\n",
      " (Node(step='step4', leadtime=3600), Node(step='step5', leadtime=3600))]\n",
      "\n",
      "settings:\n",
      "{Node(step='step1', leadtime=0): {'call': (<function concatenate_id at 0x7f642070df80>,\n",
      "                                           {'id': 1})},\n",
      " Node(step='step1', leadtime=3600): {'call': (<function concatenate_id at 0x7f642070df80>,\n",
      "                                              {'id': 1})},\n",
      " Node(step='step2', leadtime=0): {'call': (<function concatenate_id at 0x7f642070df80>,\n",
      "                                           {'id': 2})},\n",
      " Node(step='step2', leadtime=3600): {'call': (<function concatenate_id at 0x7f642070df80>,\n",
      "                                              {'id': 2})},\n",
      " Node(step='step3', leadtime=0): {'call': (<function concatenate_id at 0x7f642070df80>,\n",
      "                                           {'id': 3})},\n",
      " Node(step='step3', leadtime=3600): {'call': (<function concatenate_id at 0x7f642070df80>,\n",
      "                                              {'id': 3})},\n",
      " Node(step='step4', leadtime=0): {'call': (<function concatenate_id at 0x7f642070df80>,\n",
      "                                           {'id': 4})},\n",
      " Node(step='step4', leadtime=3600): {'call': (<function concatenate_id at 0x7f642070df80>,\n",
      "                                              {'id': 4})},\n",
      " Node(step='step5', leadtime=0): {'call': (<function concatenate_id at 0x7f642070df80>,\n",
      "                                           {'id': 5})},\n",
      " Node(step='step5', leadtime=3600): {'call': (<function concatenate_id at 0x7f642070df80>,\n",
      "                                              {'id': 5})}}\n"
     ]
    }
   ],
   "source": [
    "from pprint import pprint\n",
    "\n",
    "print(\"edges:\")\n",
    "pprint(EDGES)\n",
    "print(\"\\nsettings:\")\n",
    "pprint(SETTINGS)"
   ]
  },
  {
   "cell_type": "markdown",
   "id": "7fe0107c",
   "metadata": {},
   "source": [
    "We see that each node executed is provided our 'call', from the nodes attributes dictionary.\n",
    "It's value is `(callable, callable_keyword_arguments)`.\n",
    "This 'callable' is what represents the object to be executed or python module dot path to it.  As mentioned previously, see [plugin-executor](https://github.com/MetOffice/dagrunner/blob/main/docs/dagrunner.execute_graph.md#function-plugin_executor) for further details on how this works."
   ]
  },
  {
   "cell_type": "markdown",
   "id": "9503b993",
   "metadata": {},
   "source": [
    "## Execute our graph"
   ]
  },
  {
   "cell_type": "markdown",
   "id": "3d0e7157",
   "metadata": {},
   "source": [
    "To execute our graph, we will make use of the built-in [ExecuteGraph](docs/dagrunner.execute_graph.md#class-executegraph) class.\n",
    "This class accepts our [networkx.DiGraph](https://networkx.org/documentation/stable/reference/classes/digraph.html) object as input.  It can also optionally take a tuple `(edges, nodes)`, which in turn DAGRunner will turn into a [networkx.DiGraph](https://networkx.org/documentation/stable/reference/classes/digraph.html) for us.  We typically recommend that users pass DAGRunner the networkx graph itself, but for simplicity, we will stick with our tuple.\n",
    "\n",
    "Furthermore, we will specify the 'single-threaded' scheduler to begin with.  This is the dask serial execution scheduler."
   ]
  },
  {
   "cell_type": "code",
   "execution_count": 5,
   "id": "3358ecb6",
   "metadata": {},
   "outputs": [],
   "source": [
    "from dagrunner.execute_graph import ExecuteGraph\n",
    "\n",
    "graph = ExecuteGraph((EDGES, SETTINGS), scheduler=\"single-threaded\", verbose=True)"
   ]
  },
  {
   "cell_type": "markdown",
   "id": "1ee17397",
   "metadata": {},
   "source": [
    "### Graph visualisation"
   ]
  },
  {
   "cell_type": "markdown",
   "id": "8e752255",
   "metadata": {},
   "source": [
    "We provide some out-of-the-box capability to easily visualise networkx graphs (using the javascript mermaid library)."
   ]
  },
  {
   "cell_type": "code",
   "execution_count": 6,
   "id": "4bd994da",
   "metadata": {},
   "outputs": [
    {
     "data": {
      "image/jpeg": "[encoded data removed]",
      "text/plain": [
       "<IPython.core.display.Image object>"
      ]
     },
     "metadata": {},
     "output_type": "display_data"
    }
   ],
   "source": [
    "graph.visualise()"
   ]
  },
  {
   "cell_type": "markdown",
   "id": "f51bec17",
   "metadata": {},
   "source": [
    "We can clearly see the two distinct branches for execution, one for each leadtime that we defined."
   ]
  },
  {
   "cell_type": "markdown",
   "id": "0be04ad0",
   "metadata": {},
   "source": [
    "### Execution"
   ]
  },
  {
   "cell_type": "markdown",
   "id": "e4916a57",
   "metadata": {},
   "source": [
    "Now, let's execute this graph and seeing how things progress through the execution (we specified `verbose=True` above)."
   ]
  },
  {
   "cell_type": "code",
   "execution_count": 7,
   "id": "682287f9",
   "metadata": {},
   "outputs": [
    {
     "name": "stdout",
     "output_type": "stream",
     "text": [
      "args: []\n",
      "call: (<function concatenate_id at 0x7f642070df80>, {'id': 1})\n",
      "concatenate_id(*[], **{'id': 1})\n",
      "result: 1\n",
      "args: ['1']\n",
      "call: (<function concatenate_id at 0x7f642070df80>, {'id': 2})\n",
      "concatenate_id(*['1'], **{'id': 2})\n",
      "result: 1_2\n",
      "args: []\n",
      "call: (<function concatenate_id at 0x7f642070df80>, {'id': 3})\n",
      "concatenate_id(*[], **{'id': 3})\n",
      "result: 3\n",
      "args: ['3']\n",
      "call: (<function concatenate_id at 0x7f642070df80>, {'id': 4})\n",
      "concatenate_id(*['3'], **{'id': 4})\n",
      "result: 3_4\n",
      "args: ['1_2', '3_4']\n",
      "call: (<function concatenate_id at 0x7f642070df80>, {'id': 5})\n",
      "concatenate_id(*['1_2', '3_4'], **{'id': 5})\n",
      "result: 1_2_3_4_5\n",
      "args: []\n",
      "call: (<function concatenate_id at 0x7f642070df80>, {'id': 3})\n",
      "concatenate_id(*[], **{'id': 3})\n",
      "result: 3\n",
      "args: ['3']\n",
      "call: (<function concatenate_id at 0x7f642070df80>, {'id': 4})\n",
      "concatenate_id(*['3'], **{'id': 4})\n",
      "result: 3_4\n",
      "args: []\n",
      "call: (<function concatenate_id at 0x7f642070df80>, {'id': 1})\n",
      "concatenate_id(*[], **{'id': 1})\n",
      "result: 1\n",
      "args: ['1']\n",
      "call: (<function concatenate_id at 0x7f642070df80>, {'id': 2})\n",
      "concatenate_id(*['1'], **{'id': 2})\n",
      "result: 1_2\n",
      "args: ['1_2', '3_4']\n",
      "call: (<function concatenate_id at 0x7f642070df80>, {'id': 5})\n",
      "concatenate_id(*['1_2', '3_4'], **{'id': 5})\n",
      "result: 1_2_3_4_5\n",
      "Elapsed time: 0.02s\n"
     ]
    }
   ],
   "source": [
    "graph()"
   ]
  },
  {
   "cell_type": "markdown",
   "id": "020516d8",
   "metadata": {},
   "source": [
    "We can see from the stdout: 'args' representing input arguments to our particular node; 'call', the attribute representing how to execute this node and 'result', the concatenation of node ID performed by our callable (`concatenate_id`).  This demonstrates passing data in memory (node ID strings in this case) between nodes in the execution graph."
   ]
  },
  {
   "cell_type": "markdown",
   "id": "b5e8e446",
   "metadata": {},
   "source": [
    "## Customisation"
   ]
  },
  {
   "cell_type": "markdown",
   "id": "4268d7f6",
   "metadata": {},
   "source": [
    "### Customised graph construction"
   ]
  },
  {
   "cell_type": "markdown",
   "id": "8b85416e",
   "metadata": {},
   "source": [
    "\"What if I require some degree of control over how the graph is constructed based on how its called?\"\n",
    "\n",
    "The [ExecuteGraph](docs/dagrunner.execute_graph.md#class-executegraph) class can also be provided a **callable object** which returns a networkx graph.  As mentioned previously, similarly, this can be a python dot module path to such a callable object too.  When providing a callable that returns a networkx graph, rather than the networkx graph directly, you may want to such a callable to accept parameters too.  This is a means for context dependent graph construction as well as lazy graph construction.  Parameters to our callable are provided to [ExecuteGraph](docs/dagrunner.execute_graph.md#class-executegraph) via the `networkx_graph_kwargs` parameter.\n",
    "\n",
    "This offers huge amounts of flexibility and importantly ensures that a separation of concerns is maintained.  That is, that DAGrunner only concerns itself with providing a framework by which to execute networkx graphs, rather than taking responsibility to define such a graph.\n",
    "\n",
    "Typical usecases include:\n",
    "- Lazy graph construction.\n",
    "  - Being a callable means we benefit from lazy construction, where the graph callable to construct your graph isn't itself called until execution of the graph.\n",
    "- Context dependent graph construction.\n",
    "  - Cycle dependent graph construction.\n",
    "  - ...\n",
    "\n",
    "Here is an example, where we might request a networkx graph which is constructed which is dependent on the particular cycle to which we are executing:"
   ]
  },
  {
   "cell_type": "markdown",
   "id": "a849b100",
   "metadata": {},
   "source": [
    "```python\n",
    "def gen_networkx(cycle):\n",
    "    graph = graph_gen(cycle)\n",
    "    return graph\n",
    "```"
   ]
  },
  {
   "cell_type": "markdown",
   "id": "0f13f730",
   "metadata": {},
   "source": [
    "This calls a fictitious `graph_gen`.  Representing something you have defined that returns your cycle dependent networkx graph construction.\n",
    "\n",
    "We can then instantiate our `ExecuteGraph` object accordingly with this graph construction callable object and pass any parameters it should take (like the cycle in this case):"
   ]
  },
  {
   "cell_type": "markdown",
   "id": "1b559486",
   "metadata": {},
   "source": [
    "```python\n",
    "graph = ExecuteGraph(gen_networkx, networkx_graph_kwargs={\"cycle\": dummy_cycle})\n",
    "```"
   ]
  },
  {
   "cell_type": "markdown",
   "id": "66e74202",
   "metadata": {},
   "source": [
    "We can see how we might achieve great amount of flexibility through such an approach, allowing us to meet project specific needs."
   ]
  },
  {
   "cell_type": "markdown",
   "id": "043dd9d9",
   "metadata": {},
   "source": [
    "### Customised node execution"
   ]
  },
  {
   "cell_type": "markdown",
   "id": "b20bfed0",
   "metadata": {},
   "source": [
    "We mentioned previously how DAGRunner [ExecuteGraph](docs/dagrunner.execute_graph.md#class-executegraph) class by default utilises its built-in [plugin-executor](https://github.com/MetOffice/dagrunner/blob/main/docs/dagrunner.execute_graph.md#function-plugin_executor) function to execute each node that it wraps in our networkx graph.\n",
    "\n",
    "It is this function that defines what we expect to find defined for our graphs node attributes.  Defining the need for this 'call' attribute in particular which tells it what callable object to call, along with any arguments to pass to it.  This callable object can be the object itself, or otherwise again a python doc path to this object.\n",
    "\n",
    "We can of course define our own 'plugin executor' and pass this on initialisation of our [ExecuteGraph](docs/dagrunner.execute_graph.md#class-executegraph) class.\n",
    "\n",
    "However, this should not normally be needed.  We provide an illustrated example here for completeness.  In our example, we will extend the built-in executor rather than replace it:"
   ]
  },
  {
   "cell_type": "code",
   "execution_count": 8,
   "id": "52a4028c",
   "metadata": {},
   "outputs": [],
   "source": [
    "from dagrunner.execute_graph import ExecuteGraph, plugin_executor\n",
    "\n",
    "\n",
    "def custom_plugin_executor(*args, call=None, verbose=False, dry_run=False, **kwargs):\n",
    "    # do something custom\n",
    "    return plugin_executor(*args, call=call, verbose=verbose, dry_run=dry_run, **kwargs)"
   ]
  },
  {
   "cell_type": "markdown",
   "id": "ceb83e6f",
   "metadata": {},
   "source": [
    "Now we can utilise our project specific plugin executor by initialising our [ExecuteGraph](docs/dagrunner.execute_graph.md#class-executegraph) class with this object."
   ]
  },
  {
   "cell_type": "markdown",
   "id": "56c0d7c2",
   "metadata": {},
   "source": [
    "```python\n",
    "ExecuteGraph(..., plugin_executor=custom_plugin_executor, ...)\n",
    "```"
   ]
  },
  {
   "cell_type": "markdown",
   "id": "57400568",
   "metadata": {},
   "source": [
    "### Further customisation\n",
    "\n",
    "Note that you may choose to subclass [ExecuteGraph](docs/dagrunner.execute_graph.md#class-executegraph) and or write a custom commandline script to call it, depending on your requirements.\n",
    "\n",
    "As with the case of a custom `plugin_executor``, it's unlikely that you will find such a need for customisation such as this."
   ]
  },
  {
   "cell_type": "markdown",
   "id": "1d6761c6",
   "metadata": {},
   "source": [
    "## Using DAGrunner via the commandline\n",
    "\n",
    "Using DAGrunner as part of real world scenarios will likely require interfacing to it externally.  This can be done via the commandline.\n",
    "\n",
    "DAGRunner provides the `dagrunner-execute-graph` script for this purpose.\n",
    "\n",
    "This script provides a CLI that maps 1-to-1 with the UI of [ExecuteGraph](docs/dagrunner.execute_graph.md#class-executegraph), so everything described above can be repeated via the commandline via this script.\n",
    "\n",
    "The only difference when calling via this script, is that clearly our networkx graph (or callable that returns one), must be provided via a string representing a Python dot path to this object, rather than the object itself.  DAGRunner will then module load this object accordingly."
   ]
  }
 ],
 "metadata": {
  "kernelspec": {
   "display_name": "Python 3 (ipykernel)",
   "language": "python",
   "name": "python3"
  },
  "language_info": {
   "codemirror_mode": {
    "name": "ipython",
    "version": 3
   },
   "file_extension": ".py",
   "mimetype": "text/x-python",
   "name": "python",
   "nbconvert_exporter": "python",
   "pygments_lexer": "ipython3",
   "version": "3.12.5"
  }
 },
 "nbformat": 4,
 "nbformat_minor": 5
}
